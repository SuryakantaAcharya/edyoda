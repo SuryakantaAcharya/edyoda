{
 "cells": [
  {
   "cell_type": "code",
   "execution_count": 3,
   "id": "c5d8ce7a",
   "metadata": {},
   "outputs": [
    {
     "name": "stdout",
     "output_type": "stream",
     "text": [
      "type your name:edyoda\n",
      " reversed is :adoyde\n"
     ]
    }
   ],
   "source": [
    "nm=(input(\"type your name:\"))\n",
    "mn=nm[::-1]\n",
    "print(\" reversed is :{}\".format(mn))"
   ]
  },
  {
   "cell_type": "code",
   "execution_count": null,
   "id": "34c7f00c",
   "metadata": {},
   "outputs": [],
   "source": []
  }
 ],
 "metadata": {
  "kernelspec": {
   "display_name": "Python 3 (ipykernel)",
   "language": "python",
   "name": "python3"
  },
  "language_info": {
   "codemirror_mode": {
    "name": "ipython",
    "version": 3
   },
   "file_extension": ".py",
   "mimetype": "text/x-python",
   "name": "python",
   "nbconvert_exporter": "python",
   "pygments_lexer": "ipython3",
   "version": "3.9.7"
  }
 },
 "nbformat": 4,
 "nbformat_minor": 5
}
